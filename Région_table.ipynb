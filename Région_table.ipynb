{
 "cells": [
  {
   "cell_type": "code",
   "execution_count": 1,
   "id": "63d51ade-ee78-43b5-9135-435ca0af46be",
   "metadata": {},
   "outputs": [],
   "source": [
    "import pandas as pd\n",
    "import numpy as np\n",
    "import random\n",
    "from faker import Faker"
   ]
  },
  {
   "cell_type": "code",
   "execution_count": 2,
   "id": "8742e68d-112f-48c0-adb9-2d57c5d21842",
   "metadata": {},
   "outputs": [],
   "source": [
    "#initialisation de faker \n",
    "fake = Faker()\n",
    "fake = Faker(\"fr_FR\")"
   ]
  },
  {
   "cell_type": "code",
   "execution_count": 3,
   "id": "33ca9e96-0abd-49d9-9801-5bce5855ae5e",
   "metadata": {},
   "outputs": [],
   "source": [
    "#génération des données \n",
    "nb= 1000 # nombres de données à générer\n",
    "\n",
    "Data = { \n",
    "    \"Id_Region\":[fake.random_int(min=1 , max=10) for i in range(nb)],\n",
    "    \"Name_Region\":[fake.random_element([\"Adamaoua\",\"Centre\",\"Est\",\"Sud\",\"Littoral\",\"Nord\",\"Sud-Ouest\",\"Ouest\",\"Extreme_Nord\",\"Nord_Ouest\"]) for i in range(nb)],\n",
    "    \"Country\":[fake.country() for i in range(nb)],\n",
    "    }"
   ]
  },
  {
   "cell_type": "code",
   "execution_count": 4,
   "id": "c9a56707-3e55-42b0-a07b-b66b9bcce70f",
   "metadata": {},
   "outputs": [
    {
     "data": {
      "text/html": [
       "<div>\n",
       "<style scoped>\n",
       "    .dataframe tbody tr th:only-of-type {\n",
       "        vertical-align: middle;\n",
       "    }\n",
       "\n",
       "    .dataframe tbody tr th {\n",
       "        vertical-align: top;\n",
       "    }\n",
       "\n",
       "    .dataframe thead th {\n",
       "        text-align: right;\n",
       "    }\n",
       "</style>\n",
       "<table border=\"1\" class=\"dataframe\">\n",
       "  <thead>\n",
       "    <tr style=\"text-align: right;\">\n",
       "      <th></th>\n",
       "      <th>Id_Region</th>\n",
       "      <th>Name_Region</th>\n",
       "      <th>Country</th>\n",
       "    </tr>\n",
       "  </thead>\n",
       "  <tbody>\n",
       "    <tr>\n",
       "      <th>0</th>\n",
       "      <td>9</td>\n",
       "      <td>Sud-Ouest</td>\n",
       "      <td>Vietnam</td>\n",
       "    </tr>\n",
       "    <tr>\n",
       "      <th>1</th>\n",
       "      <td>10</td>\n",
       "      <td>Ouest</td>\n",
       "      <td>Honduras</td>\n",
       "    </tr>\n",
       "    <tr>\n",
       "      <th>2</th>\n",
       "      <td>6</td>\n",
       "      <td>Extreme_Nord</td>\n",
       "      <td>Suisse</td>\n",
       "    </tr>\n",
       "    <tr>\n",
       "      <th>3</th>\n",
       "      <td>1</td>\n",
       "      <td>Nord_Ouest</td>\n",
       "      <td>Saint Pierre et Miquelon</td>\n",
       "    </tr>\n",
       "    <tr>\n",
       "      <th>4</th>\n",
       "      <td>2</td>\n",
       "      <td>Est</td>\n",
       "      <td>Andorre</td>\n",
       "    </tr>\n",
       "    <tr>\n",
       "      <th>...</th>\n",
       "      <td>...</td>\n",
       "      <td>...</td>\n",
       "      <td>...</td>\n",
       "    </tr>\n",
       "    <tr>\n",
       "      <th>995</th>\n",
       "      <td>2</td>\n",
       "      <td>Centre</td>\n",
       "      <td>Mayotte</td>\n",
       "    </tr>\n",
       "    <tr>\n",
       "      <th>996</th>\n",
       "      <td>5</td>\n",
       "      <td>Adamaoua</td>\n",
       "      <td>Territoires français du sud</td>\n",
       "    </tr>\n",
       "    <tr>\n",
       "      <th>997</th>\n",
       "      <td>10</td>\n",
       "      <td>Nord</td>\n",
       "      <td>Corée du Nord</td>\n",
       "    </tr>\n",
       "    <tr>\n",
       "      <th>998</th>\n",
       "      <td>4</td>\n",
       "      <td>Sud-Ouest</td>\n",
       "      <td>Turks et Caïques (Îles)</td>\n",
       "    </tr>\n",
       "    <tr>\n",
       "      <th>999</th>\n",
       "      <td>8</td>\n",
       "      <td>Ouest</td>\n",
       "      <td>Lithuanie</td>\n",
       "    </tr>\n",
       "  </tbody>\n",
       "</table>\n",
       "<p>1000 rows × 3 columns</p>\n",
       "</div>"
      ],
      "text/plain": [
       "     Id_Region   Name_Region                      Country\n",
       "0            9     Sud-Ouest                      Vietnam\n",
       "1           10         Ouest                     Honduras\n",
       "2            6  Extreme_Nord                       Suisse\n",
       "3            1    Nord_Ouest     Saint Pierre et Miquelon\n",
       "4            2           Est                      Andorre\n",
       "..         ...           ...                          ...\n",
       "995          2        Centre                      Mayotte\n",
       "996          5      Adamaoua  Territoires français du sud\n",
       "997         10          Nord                Corée du Nord\n",
       "998          4     Sud-Ouest      Turks et Caïques (Îles)\n",
       "999          8         Ouest                    Lithuanie\n",
       "\n",
       "[1000 rows x 3 columns]"
      ]
     },
     "execution_count": 4,
     "metadata": {},
     "output_type": "execute_result"
    }
   ],
   "source": [
    "#impression du DataFrame\n",
    "Df = pd.DataFrame(Data)\n",
    "Df     "
   ]
  },
  {
   "cell_type": "code",
   "execution_count": null,
   "id": "db4ca16e-e5db-48fd-b59c-686212527869",
   "metadata": {},
   "outputs": [],
   "source": []
  }
 ],
 "metadata": {
  "kernelspec": {
   "display_name": "Python 3 (ipykernel)",
   "language": "python",
   "name": "python3"
  },
  "language_info": {
   "codemirror_mode": {
    "name": "ipython",
    "version": 3
   },
   "file_extension": ".py",
   "mimetype": "text/x-python",
   "name": "python",
   "nbconvert_exporter": "python",
   "pygments_lexer": "ipython3",
   "version": "3.12.4"
  }
 },
 "nbformat": 4,
 "nbformat_minor": 5
}
