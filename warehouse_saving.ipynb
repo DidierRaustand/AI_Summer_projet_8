{
 "cells": [
  {
   "cell_type": "code",
   "execution_count": 2,
   "metadata": {},
   "outputs": [],
   "source": [
    "import pandas as pd \n",
    "from tqdm import tqdm \n",
    "import sqlite3 \n",
    "import os \n",
    "from glob import glob "
   ]
  },
  {
   "cell_type": "code",
   "execution_count": 6,
   "metadata": {},
   "outputs": [
    {
     "data": {
      "text/html": [
       "<div>\n",
       "<style scoped>\n",
       "    .dataframe tbody tr th:only-of-type {\n",
       "        vertical-align: middle;\n",
       "    }\n",
       "\n",
       "    .dataframe tbody tr th {\n",
       "        vertical-align: top;\n",
       "    }\n",
       "\n",
       "    .dataframe thead th {\n",
       "        text-align: right;\n",
       "    }\n",
       "</style>\n",
       "<table border=\"1\" class=\"dataframe\">\n",
       "  <thead>\n",
       "    <tr style=\"text-align: right;\">\n",
       "      <th></th>\n",
       "      <th>Unnamed: 0</th>\n",
       "      <th>device_id</th>\n",
       "      <th>device_type</th>\n",
       "      <th>os</th>\n",
       "      <th>manufacturer</th>\n",
       "      <th>model</th>\n",
       "      <th>last_used</th>\n",
       "    </tr>\n",
       "  </thead>\n",
       "  <tbody>\n",
       "    <tr>\n",
       "      <th>0</th>\n",
       "      <td>0</td>\n",
       "      <td>bf0a18a6-040b-4652-bd9e-6bd0fad52f8f</td>\n",
       "      <td>mobile</td>\n",
       "      <td>mac</td>\n",
       "      <td>LG</td>\n",
       "      <td>NanoCell TV</td>\n",
       "      <td>2022-07-10 00:31:43</td>\n",
       "    </tr>\n",
       "    <tr>\n",
       "      <th>1</th>\n",
       "      <td>1</td>\n",
       "      <td>897bc57d-c097-4bc9-95c6-e3cd72fc89ed</td>\n",
       "      <td>tablette</td>\n",
       "      <td>mac</td>\n",
       "      <td>Sharp</td>\n",
       "      <td>aquos sense 5g</td>\n",
       "      <td>2020-10-01 16:28:20</td>\n",
       "    </tr>\n",
       "    <tr>\n",
       "      <th>2</th>\n",
       "      <td>2</td>\n",
       "      <td>e996e9fb-ee0c-4d28-a317-42360e5191af</td>\n",
       "      <td>mobile</td>\n",
       "      <td>mac</td>\n",
       "      <td>HP</td>\n",
       "      <td>envy 13</td>\n",
       "      <td>2020-12-19 05:07:24</td>\n",
       "    </tr>\n",
       "    <tr>\n",
       "      <th>3</th>\n",
       "      <td>3</td>\n",
       "      <td>cf1961a2-c230-462a-a78a-5b367ccb1a04</td>\n",
       "      <td>tablette</td>\n",
       "      <td>ios</td>\n",
       "      <td>dell</td>\n",
       "      <td>PRECISION 5550</td>\n",
       "      <td>2023-04-11 21:43:00</td>\n",
       "    </tr>\n",
       "    <tr>\n",
       "      <th>4</th>\n",
       "      <td>4</td>\n",
       "      <td>8ecf1753-26e9-4a78-a2ba-c91f9ef60b2d</td>\n",
       "      <td>tablette</td>\n",
       "      <td>ios</td>\n",
       "      <td>HP</td>\n",
       "      <td>OMEN 15</td>\n",
       "      <td>2022-10-23 03:10:42</td>\n",
       "    </tr>\n",
       "    <tr>\n",
       "      <th>...</th>\n",
       "      <td>...</td>\n",
       "      <td>...</td>\n",
       "      <td>...</td>\n",
       "      <td>...</td>\n",
       "      <td>...</td>\n",
       "      <td>...</td>\n",
       "      <td>...</td>\n",
       "    </tr>\n",
       "    <tr>\n",
       "      <th>99995</th>\n",
       "      <td>99995</td>\n",
       "      <td>ece7bd14-2351-4a34-909a-eb2865361218</td>\n",
       "      <td>tablette</td>\n",
       "      <td>mac</td>\n",
       "      <td>dell</td>\n",
       "      <td>XPS 13</td>\n",
       "      <td>2023-05-18 05:16:20</td>\n",
       "    </tr>\n",
       "    <tr>\n",
       "      <th>99996</th>\n",
       "      <td>99996</td>\n",
       "      <td>1f7bce23-f811-42eb-8cb3-c47b3b21cb72</td>\n",
       "      <td>mobile</td>\n",
       "      <td>mac</td>\n",
       "      <td>LG</td>\n",
       "      <td>spectre x3670</td>\n",
       "      <td>2022-01-18 22:18:14</td>\n",
       "    </tr>\n",
       "    <tr>\n",
       "      <th>99997</th>\n",
       "      <td>99997</td>\n",
       "      <td>a3bd74e9-28d4-4acf-83c6-a84d1b12d9f1</td>\n",
       "      <td>tablette</td>\n",
       "      <td>ios</td>\n",
       "      <td>Sharp</td>\n",
       "      <td>dynabook v8</td>\n",
       "      <td>2020-02-24 06:54:29</td>\n",
       "    </tr>\n",
       "    <tr>\n",
       "      <th>99998</th>\n",
       "      <td>99998</td>\n",
       "      <td>5c51b339-9724-4058-941c-5c5c96f8d6f8</td>\n",
       "      <td>tablette</td>\n",
       "      <td>windows</td>\n",
       "      <td>LG</td>\n",
       "      <td>Wing 5G</td>\n",
       "      <td>2020-07-12 19:01:49</td>\n",
       "    </tr>\n",
       "    <tr>\n",
       "      <th>99999</th>\n",
       "      <td>99999</td>\n",
       "      <td>1499c769-3666-46a9-b32f-49a425f4bf8a</td>\n",
       "      <td>mobile</td>\n",
       "      <td>mac</td>\n",
       "      <td>Apple</td>\n",
       "      <td>ipad pro</td>\n",
       "      <td>2021-11-18 12:34:04</td>\n",
       "    </tr>\n",
       "  </tbody>\n",
       "</table>\n",
       "<p>100000 rows × 7 columns</p>\n",
       "</div>"
      ],
      "text/plain": [
       "       Unnamed: 0                             device_id device_type       os  \\\n",
       "0               0  bf0a18a6-040b-4652-bd9e-6bd0fad52f8f      mobile      mac   \n",
       "1               1  897bc57d-c097-4bc9-95c6-e3cd72fc89ed    tablette      mac   \n",
       "2               2  e996e9fb-ee0c-4d28-a317-42360e5191af      mobile      mac   \n",
       "3               3  cf1961a2-c230-462a-a78a-5b367ccb1a04    tablette      ios   \n",
       "4               4  8ecf1753-26e9-4a78-a2ba-c91f9ef60b2d    tablette      ios   \n",
       "...           ...                                   ...         ...      ...   \n",
       "99995       99995  ece7bd14-2351-4a34-909a-eb2865361218    tablette      mac   \n",
       "99996       99996  1f7bce23-f811-42eb-8cb3-c47b3b21cb72      mobile      mac   \n",
       "99997       99997  a3bd74e9-28d4-4acf-83c6-a84d1b12d9f1    tablette      ios   \n",
       "99998       99998  5c51b339-9724-4058-941c-5c5c96f8d6f8    tablette  windows   \n",
       "99999       99999  1499c769-3666-46a9-b32f-49a425f4bf8a      mobile      mac   \n",
       "\n",
       "      manufacturer           model            last_used  \n",
       "0               LG     NanoCell TV  2022-07-10 00:31:43  \n",
       "1            Sharp  aquos sense 5g  2020-10-01 16:28:20  \n",
       "2               HP         envy 13  2020-12-19 05:07:24  \n",
       "3             dell  PRECISION 5550  2023-04-11 21:43:00  \n",
       "4               HP         OMEN 15  2022-10-23 03:10:42  \n",
       "...            ...             ...                  ...  \n",
       "99995         dell          XPS 13  2023-05-18 05:16:20  \n",
       "99996           LG   spectre x3670  2022-01-18 22:18:14  \n",
       "99997        Sharp     dynabook v8  2020-02-24 06:54:29  \n",
       "99998           LG         Wing 5G  2020-07-12 19:01:49  \n",
       "99999        Apple        ipad pro  2021-11-18 12:34:04  \n",
       "\n",
       "[100000 rows x 7 columns]"
      ]
     },
     "execution_count": 6,
     "metadata": {},
     "output_type": "execute_result"
    }
   ],
   "source": [
    "# charger mes donnees\n",
    "\n",
    "data = pd.read_csv('../Data/Train/devices.csv')\n",
    "data"
   ]
  },
  {
   "cell_type": "markdown",
   "metadata": {},
   "source": [
    "# creation de la  connection avec  la base de donnee sqlite"
   ]
  },
  {
   "cell_type": "markdown",
   "metadata": {},
   "source": [
    "#####  IL EST IMPORTANT D'AVOIR LA BASE DE DONNE  fraude_detection_warehouse.db OU D'EN CREE UNE AVEC CE NOM \n"
   ]
  },
  {
   "cell_type": "code",
   "execution_count": 7,
   "metadata": {},
   "outputs": [
    {
     "data": {
      "text/plain": [
       "<sqlite3.Connection at 0x29bd7db3740>"
      ]
     },
     "execution_count": 7,
     "metadata": {},
     "output_type": "execute_result"
    }
   ],
   "source": [
    "conn = sqlite3.connect('../Data/db/fraude_detection_warehouse.db')\n",
    "conn"
   ]
  },
  {
   "cell_type": "code",
   "execution_count": 15,
   "metadata": {},
   "outputs": [],
   "source": [
    "# supprimer la columns  Unnamed: 0 dans le csv \n",
    "data = data.drop(columns=['Unnamed: 0'])"
   ]
  },
  {
   "cell_type": "code",
   "execution_count": 16,
   "metadata": {},
   "outputs": [
    {
     "data": {
      "text/html": [
       "<div>\n",
       "<style scoped>\n",
       "    .dataframe tbody tr th:only-of-type {\n",
       "        vertical-align: middle;\n",
       "    }\n",
       "\n",
       "    .dataframe tbody tr th {\n",
       "        vertical-align: top;\n",
       "    }\n",
       "\n",
       "    .dataframe thead th {\n",
       "        text-align: right;\n",
       "    }\n",
       "</style>\n",
       "<table border=\"1\" class=\"dataframe\">\n",
       "  <thead>\n",
       "    <tr style=\"text-align: right;\">\n",
       "      <th></th>\n",
       "      <th>device_id</th>\n",
       "      <th>device_type</th>\n",
       "      <th>os</th>\n",
       "      <th>manufacturer</th>\n",
       "      <th>model</th>\n",
       "      <th>last_used</th>\n",
       "    </tr>\n",
       "  </thead>\n",
       "  <tbody>\n",
       "    <tr>\n",
       "      <th>0</th>\n",
       "      <td>bf0a18a6-040b-4652-bd9e-6bd0fad52f8f</td>\n",
       "      <td>mobile</td>\n",
       "      <td>mac</td>\n",
       "      <td>LG</td>\n",
       "      <td>NanoCell TV</td>\n",
       "      <td>2022-07-10 00:31:43</td>\n",
       "    </tr>\n",
       "    <tr>\n",
       "      <th>1</th>\n",
       "      <td>897bc57d-c097-4bc9-95c6-e3cd72fc89ed</td>\n",
       "      <td>tablette</td>\n",
       "      <td>mac</td>\n",
       "      <td>Sharp</td>\n",
       "      <td>aquos sense 5g</td>\n",
       "      <td>2020-10-01 16:28:20</td>\n",
       "    </tr>\n",
       "    <tr>\n",
       "      <th>2</th>\n",
       "      <td>e996e9fb-ee0c-4d28-a317-42360e5191af</td>\n",
       "      <td>mobile</td>\n",
       "      <td>mac</td>\n",
       "      <td>HP</td>\n",
       "      <td>envy 13</td>\n",
       "      <td>2020-12-19 05:07:24</td>\n",
       "    </tr>\n",
       "    <tr>\n",
       "      <th>3</th>\n",
       "      <td>cf1961a2-c230-462a-a78a-5b367ccb1a04</td>\n",
       "      <td>tablette</td>\n",
       "      <td>ios</td>\n",
       "      <td>dell</td>\n",
       "      <td>PRECISION 5550</td>\n",
       "      <td>2023-04-11 21:43:00</td>\n",
       "    </tr>\n",
       "    <tr>\n",
       "      <th>4</th>\n",
       "      <td>8ecf1753-26e9-4a78-a2ba-c91f9ef60b2d</td>\n",
       "      <td>tablette</td>\n",
       "      <td>ios</td>\n",
       "      <td>HP</td>\n",
       "      <td>OMEN 15</td>\n",
       "      <td>2022-10-23 03:10:42</td>\n",
       "    </tr>\n",
       "    <tr>\n",
       "      <th>...</th>\n",
       "      <td>...</td>\n",
       "      <td>...</td>\n",
       "      <td>...</td>\n",
       "      <td>...</td>\n",
       "      <td>...</td>\n",
       "      <td>...</td>\n",
       "    </tr>\n",
       "    <tr>\n",
       "      <th>99995</th>\n",
       "      <td>ece7bd14-2351-4a34-909a-eb2865361218</td>\n",
       "      <td>tablette</td>\n",
       "      <td>mac</td>\n",
       "      <td>dell</td>\n",
       "      <td>XPS 13</td>\n",
       "      <td>2023-05-18 05:16:20</td>\n",
       "    </tr>\n",
       "    <tr>\n",
       "      <th>99996</th>\n",
       "      <td>1f7bce23-f811-42eb-8cb3-c47b3b21cb72</td>\n",
       "      <td>mobile</td>\n",
       "      <td>mac</td>\n",
       "      <td>LG</td>\n",
       "      <td>spectre x3670</td>\n",
       "      <td>2022-01-18 22:18:14</td>\n",
       "    </tr>\n",
       "    <tr>\n",
       "      <th>99997</th>\n",
       "      <td>a3bd74e9-28d4-4acf-83c6-a84d1b12d9f1</td>\n",
       "      <td>tablette</td>\n",
       "      <td>ios</td>\n",
       "      <td>Sharp</td>\n",
       "      <td>dynabook v8</td>\n",
       "      <td>2020-02-24 06:54:29</td>\n",
       "    </tr>\n",
       "    <tr>\n",
       "      <th>99998</th>\n",
       "      <td>5c51b339-9724-4058-941c-5c5c96f8d6f8</td>\n",
       "      <td>tablette</td>\n",
       "      <td>windows</td>\n",
       "      <td>LG</td>\n",
       "      <td>Wing 5G</td>\n",
       "      <td>2020-07-12 19:01:49</td>\n",
       "    </tr>\n",
       "    <tr>\n",
       "      <th>99999</th>\n",
       "      <td>1499c769-3666-46a9-b32f-49a425f4bf8a</td>\n",
       "      <td>mobile</td>\n",
       "      <td>mac</td>\n",
       "      <td>Apple</td>\n",
       "      <td>ipad pro</td>\n",
       "      <td>2021-11-18 12:34:04</td>\n",
       "    </tr>\n",
       "  </tbody>\n",
       "</table>\n",
       "<p>100000 rows × 6 columns</p>\n",
       "</div>"
      ],
      "text/plain": [
       "                                  device_id device_type       os manufacturer  \\\n",
       "0      bf0a18a6-040b-4652-bd9e-6bd0fad52f8f      mobile      mac           LG   \n",
       "1      897bc57d-c097-4bc9-95c6-e3cd72fc89ed    tablette      mac        Sharp   \n",
       "2      e996e9fb-ee0c-4d28-a317-42360e5191af      mobile      mac           HP   \n",
       "3      cf1961a2-c230-462a-a78a-5b367ccb1a04    tablette      ios         dell   \n",
       "4      8ecf1753-26e9-4a78-a2ba-c91f9ef60b2d    tablette      ios           HP   \n",
       "...                                     ...         ...      ...          ...   \n",
       "99995  ece7bd14-2351-4a34-909a-eb2865361218    tablette      mac         dell   \n",
       "99996  1f7bce23-f811-42eb-8cb3-c47b3b21cb72      mobile      mac           LG   \n",
       "99997  a3bd74e9-28d4-4acf-83c6-a84d1b12d9f1    tablette      ios        Sharp   \n",
       "99998  5c51b339-9724-4058-941c-5c5c96f8d6f8    tablette  windows           LG   \n",
       "99999  1499c769-3666-46a9-b32f-49a425f4bf8a      mobile      mac        Apple   \n",
       "\n",
       "                model            last_used  \n",
       "0         NanoCell TV  2022-07-10 00:31:43  \n",
       "1      aquos sense 5g  2020-10-01 16:28:20  \n",
       "2             envy 13  2020-12-19 05:07:24  \n",
       "3      PRECISION 5550  2023-04-11 21:43:00  \n",
       "4             OMEN 15  2022-10-23 03:10:42  \n",
       "...               ...                  ...  \n",
       "99995          XPS 13  2023-05-18 05:16:20  \n",
       "99996   spectre x3670  2022-01-18 22:18:14  \n",
       "99997     dynabook v8  2020-02-24 06:54:29  \n",
       "99998         Wing 5G  2020-07-12 19:01:49  \n",
       "99999        ipad pro  2021-11-18 12:34:04  \n",
       "\n",
       "[100000 rows x 6 columns]"
      ]
     },
     "execution_count": 16,
     "metadata": {},
     "output_type": "execute_result"
    }
   ],
   "source": [
    "data"
   ]
  },
  {
   "cell_type": "code",
   "execution_count": null,
   "metadata": {},
   "outputs": [],
   "source": []
  },
  {
   "cell_type": "code",
   "execution_count": 17,
   "metadata": {},
   "outputs": [
    {
     "data": {
      "text/plain": [
       "100000"
      ]
     },
     "execution_count": 17,
     "metadata": {},
     "output_type": "execute_result"
    }
   ],
   "source": [
    "#savegarde des data dans la base de donnee\n",
    "data.to_sql('devices',conn, if_exists='replace', index=False )"
   ]
  },
  {
   "cell_type": "code",
   "execution_count": 20,
   "metadata": {},
   "outputs": [
    {
     "data": {
      "text/html": [
       "<div>\n",
       "<style scoped>\n",
       "    .dataframe tbody tr th:only-of-type {\n",
       "        vertical-align: middle;\n",
       "    }\n",
       "\n",
       "    .dataframe tbody tr th {\n",
       "        vertical-align: top;\n",
       "    }\n",
       "\n",
       "    .dataframe thead th {\n",
       "        text-align: right;\n",
       "    }\n",
       "</style>\n",
       "<table border=\"1\" class=\"dataframe\">\n",
       "  <thead>\n",
       "    <tr style=\"text-align: right;\">\n",
       "      <th></th>\n",
       "      <th>device_id</th>\n",
       "      <th>device_type</th>\n",
       "      <th>os</th>\n",
       "      <th>manufacturer</th>\n",
       "      <th>model</th>\n",
       "      <th>last_used</th>\n",
       "    </tr>\n",
       "  </thead>\n",
       "  <tbody>\n",
       "    <tr>\n",
       "      <th>0</th>\n",
       "      <td>bf0a18a6-040b-4652-bd9e-6bd0fad52f8f</td>\n",
       "      <td>mobile</td>\n",
       "      <td>mac</td>\n",
       "      <td>LG</td>\n",
       "      <td>NanoCell TV</td>\n",
       "      <td>2022-07-10 00:31:43</td>\n",
       "    </tr>\n",
       "    <tr>\n",
       "      <th>2</th>\n",
       "      <td>e996e9fb-ee0c-4d28-a317-42360e5191af</td>\n",
       "      <td>mobile</td>\n",
       "      <td>mac</td>\n",
       "      <td>HP</td>\n",
       "      <td>envy 13</td>\n",
       "      <td>2020-12-19 05:07:24</td>\n",
       "    </tr>\n",
       "    <tr>\n",
       "      <th>10</th>\n",
       "      <td>135a00a7-fdb9-4413-8ab5-e846b9e2a488</td>\n",
       "      <td>mobile</td>\n",
       "      <td>linux</td>\n",
       "      <td>HP</td>\n",
       "      <td>pavillon 15</td>\n",
       "      <td>2019-11-29 02:03:45</td>\n",
       "    </tr>\n",
       "    <tr>\n",
       "      <th>13</th>\n",
       "      <td>b4a27a18-5afd-42af-a71b-f9f2d6f0930e</td>\n",
       "      <td>mobile</td>\n",
       "      <td>android</td>\n",
       "      <td>SONY</td>\n",
       "      <td>Xperia 5 II</td>\n",
       "      <td>2023-10-24 23:49:08</td>\n",
       "    </tr>\n",
       "    <tr>\n",
       "      <th>15</th>\n",
       "      <td>e41197da-5de4-4711-ba0e-7b6e659d25e1</td>\n",
       "      <td>mobile</td>\n",
       "      <td>mac</td>\n",
       "      <td>SONY</td>\n",
       "      <td>Xperia 5 II</td>\n",
       "      <td>2020-08-30 10:46:03</td>\n",
       "    </tr>\n",
       "    <tr>\n",
       "      <th>...</th>\n",
       "      <td>...</td>\n",
       "      <td>...</td>\n",
       "      <td>...</td>\n",
       "      <td>...</td>\n",
       "      <td>...</td>\n",
       "      <td>...</td>\n",
       "    </tr>\n",
       "    <tr>\n",
       "      <th>99986</th>\n",
       "      <td>8d142e6b-0763-43ec-b876-6dfdc8ef146c</td>\n",
       "      <td>mobile</td>\n",
       "      <td>windows</td>\n",
       "      <td>dell</td>\n",
       "      <td>INSPIRON 15</td>\n",
       "      <td>2022-12-22 05:36:22</td>\n",
       "    </tr>\n",
       "    <tr>\n",
       "      <th>99987</th>\n",
       "      <td>4b9c7310-e59b-41dd-b7bd-0d7a0b655a24</td>\n",
       "      <td>mobile</td>\n",
       "      <td>windows</td>\n",
       "      <td>Apple</td>\n",
       "      <td>ipad pro</td>\n",
       "      <td>2021-03-08 04:55:30</td>\n",
       "    </tr>\n",
       "    <tr>\n",
       "      <th>99990</th>\n",
       "      <td>31c0a322-8c1d-41cd-958c-f02f0c8c3d20</td>\n",
       "      <td>mobile</td>\n",
       "      <td>android</td>\n",
       "      <td>Apple</td>\n",
       "      <td>iphone Xr</td>\n",
       "      <td>2021-03-22 16:52:34</td>\n",
       "    </tr>\n",
       "    <tr>\n",
       "      <th>99996</th>\n",
       "      <td>1f7bce23-f811-42eb-8cb3-c47b3b21cb72</td>\n",
       "      <td>mobile</td>\n",
       "      <td>mac</td>\n",
       "      <td>LG</td>\n",
       "      <td>spectre x3670</td>\n",
       "      <td>2022-01-18 22:18:14</td>\n",
       "    </tr>\n",
       "    <tr>\n",
       "      <th>99999</th>\n",
       "      <td>1499c769-3666-46a9-b32f-49a425f4bf8a</td>\n",
       "      <td>mobile</td>\n",
       "      <td>mac</td>\n",
       "      <td>Apple</td>\n",
       "      <td>ipad pro</td>\n",
       "      <td>2021-11-18 12:34:04</td>\n",
       "    </tr>\n",
       "  </tbody>\n",
       "</table>\n",
       "<p>49901 rows × 6 columns</p>\n",
       "</div>"
      ],
      "text/plain": [
       "                                  device_id device_type       os manufacturer  \\\n",
       "0      bf0a18a6-040b-4652-bd9e-6bd0fad52f8f      mobile      mac           LG   \n",
       "2      e996e9fb-ee0c-4d28-a317-42360e5191af      mobile      mac           HP   \n",
       "10     135a00a7-fdb9-4413-8ab5-e846b9e2a488      mobile    linux           HP   \n",
       "13     b4a27a18-5afd-42af-a71b-f9f2d6f0930e      mobile  android         SONY   \n",
       "15     e41197da-5de4-4711-ba0e-7b6e659d25e1      mobile      mac         SONY   \n",
       "...                                     ...         ...      ...          ...   \n",
       "99986  8d142e6b-0763-43ec-b876-6dfdc8ef146c      mobile  windows         dell   \n",
       "99987  4b9c7310-e59b-41dd-b7bd-0d7a0b655a24      mobile  windows        Apple   \n",
       "99990  31c0a322-8c1d-41cd-958c-f02f0c8c3d20      mobile  android        Apple   \n",
       "99996  1f7bce23-f811-42eb-8cb3-c47b3b21cb72      mobile      mac           LG   \n",
       "99999  1499c769-3666-46a9-b32f-49a425f4bf8a      mobile      mac        Apple   \n",
       "\n",
       "               model            last_used  \n",
       "0        NanoCell TV  2022-07-10 00:31:43  \n",
       "2            envy 13  2020-12-19 05:07:24  \n",
       "10       pavillon 15  2019-11-29 02:03:45  \n",
       "13       Xperia 5 II  2023-10-24 23:49:08  \n",
       "15       Xperia 5 II  2020-08-30 10:46:03  \n",
       "...              ...                  ...  \n",
       "99986    INSPIRON 15  2022-12-22 05:36:22  \n",
       "99987       ipad pro  2021-03-08 04:55:30  \n",
       "99990      iphone Xr  2021-03-22 16:52:34  \n",
       "99996  spectre x3670  2022-01-18 22:18:14  \n",
       "99999       ipad pro  2021-11-18 12:34:04  \n",
       "\n",
       "[49901 rows x 6 columns]"
      ]
     },
     "execution_count": 20,
     "metadata": {},
     "output_type": "execute_result"
    }
   ],
   "source": [
    "\n",
    "# filtrage en pandas  pour afficher tous les devices de type mobile \n",
    "data[data.device_type=='mobile']"
   ]
  },
  {
   "cell_type": "code",
   "execution_count": null,
   "metadata": {},
   "outputs": [],
   "source": []
  },
  {
   "cell_type": "code",
   "execution_count": 22,
   "metadata": {},
   "outputs": [],
   "source": [
    "# filtrage en SQL  pour afficher tous les devices de type mobile \n",
    "query = \"\"\" \n",
    "SELECT * FROM  devices\n",
    "WHERE device_type= 'mobile'\n",
    "\n",
    "\"\"\""
   ]
  },
  {
   "cell_type": "code",
   "execution_count": 23,
   "metadata": {},
   "outputs": [],
   "source": [
    "# excution du filtrage \n",
    "\n",
    "query_data = pd.read_sql(query , conn )"
   ]
  },
  {
   "cell_type": "code",
   "execution_count": 24,
   "metadata": {},
   "outputs": [
    {
     "data": {
      "text/html": [
       "<div>\n",
       "<style scoped>\n",
       "    .dataframe tbody tr th:only-of-type {\n",
       "        vertical-align: middle;\n",
       "    }\n",
       "\n",
       "    .dataframe tbody tr th {\n",
       "        vertical-align: top;\n",
       "    }\n",
       "\n",
       "    .dataframe thead th {\n",
       "        text-align: right;\n",
       "    }\n",
       "</style>\n",
       "<table border=\"1\" class=\"dataframe\">\n",
       "  <thead>\n",
       "    <tr style=\"text-align: right;\">\n",
       "      <th></th>\n",
       "      <th>device_id</th>\n",
       "      <th>device_type</th>\n",
       "      <th>os</th>\n",
       "      <th>manufacturer</th>\n",
       "      <th>model</th>\n",
       "      <th>last_used</th>\n",
       "    </tr>\n",
       "  </thead>\n",
       "  <tbody>\n",
       "    <tr>\n",
       "      <th>0</th>\n",
       "      <td>bf0a18a6-040b-4652-bd9e-6bd0fad52f8f</td>\n",
       "      <td>mobile</td>\n",
       "      <td>mac</td>\n",
       "      <td>LG</td>\n",
       "      <td>NanoCell TV</td>\n",
       "      <td>2022-07-10 00:31:43</td>\n",
       "    </tr>\n",
       "    <tr>\n",
       "      <th>1</th>\n",
       "      <td>e996e9fb-ee0c-4d28-a317-42360e5191af</td>\n",
       "      <td>mobile</td>\n",
       "      <td>mac</td>\n",
       "      <td>HP</td>\n",
       "      <td>envy 13</td>\n",
       "      <td>2020-12-19 05:07:24</td>\n",
       "    </tr>\n",
       "    <tr>\n",
       "      <th>2</th>\n",
       "      <td>135a00a7-fdb9-4413-8ab5-e846b9e2a488</td>\n",
       "      <td>mobile</td>\n",
       "      <td>linux</td>\n",
       "      <td>HP</td>\n",
       "      <td>pavillon 15</td>\n",
       "      <td>2019-11-29 02:03:45</td>\n",
       "    </tr>\n",
       "    <tr>\n",
       "      <th>3</th>\n",
       "      <td>b4a27a18-5afd-42af-a71b-f9f2d6f0930e</td>\n",
       "      <td>mobile</td>\n",
       "      <td>android</td>\n",
       "      <td>SONY</td>\n",
       "      <td>Xperia 5 II</td>\n",
       "      <td>2023-10-24 23:49:08</td>\n",
       "    </tr>\n",
       "    <tr>\n",
       "      <th>4</th>\n",
       "      <td>e41197da-5de4-4711-ba0e-7b6e659d25e1</td>\n",
       "      <td>mobile</td>\n",
       "      <td>mac</td>\n",
       "      <td>SONY</td>\n",
       "      <td>Xperia 5 II</td>\n",
       "      <td>2020-08-30 10:46:03</td>\n",
       "    </tr>\n",
       "    <tr>\n",
       "      <th>...</th>\n",
       "      <td>...</td>\n",
       "      <td>...</td>\n",
       "      <td>...</td>\n",
       "      <td>...</td>\n",
       "      <td>...</td>\n",
       "      <td>...</td>\n",
       "    </tr>\n",
       "    <tr>\n",
       "      <th>49896</th>\n",
       "      <td>8d142e6b-0763-43ec-b876-6dfdc8ef146c</td>\n",
       "      <td>mobile</td>\n",
       "      <td>windows</td>\n",
       "      <td>dell</td>\n",
       "      <td>INSPIRON 15</td>\n",
       "      <td>2022-12-22 05:36:22</td>\n",
       "    </tr>\n",
       "    <tr>\n",
       "      <th>49897</th>\n",
       "      <td>4b9c7310-e59b-41dd-b7bd-0d7a0b655a24</td>\n",
       "      <td>mobile</td>\n",
       "      <td>windows</td>\n",
       "      <td>Apple</td>\n",
       "      <td>ipad pro</td>\n",
       "      <td>2021-03-08 04:55:30</td>\n",
       "    </tr>\n",
       "    <tr>\n",
       "      <th>49898</th>\n",
       "      <td>31c0a322-8c1d-41cd-958c-f02f0c8c3d20</td>\n",
       "      <td>mobile</td>\n",
       "      <td>android</td>\n",
       "      <td>Apple</td>\n",
       "      <td>iphone Xr</td>\n",
       "      <td>2021-03-22 16:52:34</td>\n",
       "    </tr>\n",
       "    <tr>\n",
       "      <th>49899</th>\n",
       "      <td>1f7bce23-f811-42eb-8cb3-c47b3b21cb72</td>\n",
       "      <td>mobile</td>\n",
       "      <td>mac</td>\n",
       "      <td>LG</td>\n",
       "      <td>spectre x3670</td>\n",
       "      <td>2022-01-18 22:18:14</td>\n",
       "    </tr>\n",
       "    <tr>\n",
       "      <th>49900</th>\n",
       "      <td>1499c769-3666-46a9-b32f-49a425f4bf8a</td>\n",
       "      <td>mobile</td>\n",
       "      <td>mac</td>\n",
       "      <td>Apple</td>\n",
       "      <td>ipad pro</td>\n",
       "      <td>2021-11-18 12:34:04</td>\n",
       "    </tr>\n",
       "  </tbody>\n",
       "</table>\n",
       "<p>49901 rows × 6 columns</p>\n",
       "</div>"
      ],
      "text/plain": [
       "                                  device_id device_type       os manufacturer  \\\n",
       "0      bf0a18a6-040b-4652-bd9e-6bd0fad52f8f      mobile      mac           LG   \n",
       "1      e996e9fb-ee0c-4d28-a317-42360e5191af      mobile      mac           HP   \n",
       "2      135a00a7-fdb9-4413-8ab5-e846b9e2a488      mobile    linux           HP   \n",
       "3      b4a27a18-5afd-42af-a71b-f9f2d6f0930e      mobile  android         SONY   \n",
       "4      e41197da-5de4-4711-ba0e-7b6e659d25e1      mobile      mac         SONY   \n",
       "...                                     ...         ...      ...          ...   \n",
       "49896  8d142e6b-0763-43ec-b876-6dfdc8ef146c      mobile  windows         dell   \n",
       "49897  4b9c7310-e59b-41dd-b7bd-0d7a0b655a24      mobile  windows        Apple   \n",
       "49898  31c0a322-8c1d-41cd-958c-f02f0c8c3d20      mobile  android        Apple   \n",
       "49899  1f7bce23-f811-42eb-8cb3-c47b3b21cb72      mobile      mac           LG   \n",
       "49900  1499c769-3666-46a9-b32f-49a425f4bf8a      mobile      mac        Apple   \n",
       "\n",
       "               model            last_used  \n",
       "0        NanoCell TV  2022-07-10 00:31:43  \n",
       "1            envy 13  2020-12-19 05:07:24  \n",
       "2        pavillon 15  2019-11-29 02:03:45  \n",
       "3        Xperia 5 II  2023-10-24 23:49:08  \n",
       "4        Xperia 5 II  2020-08-30 10:46:03  \n",
       "...              ...                  ...  \n",
       "49896    INSPIRON 15  2022-12-22 05:36:22  \n",
       "49897       ipad pro  2021-03-08 04:55:30  \n",
       "49898      iphone Xr  2021-03-22 16:52:34  \n",
       "49899  spectre x3670  2022-01-18 22:18:14  \n",
       "49900       ipad pro  2021-11-18 12:34:04  \n",
       "\n",
       "[49901 rows x 6 columns]"
      ]
     },
     "execution_count": 24,
     "metadata": {},
     "output_type": "execute_result"
    }
   ],
   "source": [
    "# affichage du filtrage \n",
    "\n",
    "query_data"
   ]
  },
  {
   "cell_type": "code",
   "execution_count": null,
   "metadata": {},
   "outputs": [],
   "source": []
  },
  {
   "cell_type": "code",
   "execution_count": null,
   "metadata": {},
   "outputs": [],
   "source": []
  },
  {
   "cell_type": "markdown",
   "metadata": {},
   "source": [
    "### SAVE ALL DATA "
   ]
  },
  {
   "cell_type": "code",
   "execution_count": null,
   "metadata": {},
   "outputs": [],
   "source": [
    "## LISTER TOUS LES FICHIERS DATA DISPONIBLE "
   ]
  },
  {
   "cell_type": "code",
   "execution_count": 38,
   "metadata": {},
   "outputs": [
    {
     "data": {
      "text/plain": [
       "['../Data/Train\\\\alerts.csv',\n",
       " '../Data/Train\\\\customers.csv',\n",
       " '../Data/Train\\\\devices.csv',\n",
       " '../Data/Train\\\\transactions.csv',\n",
       " '../Data/Train\\\\transaction_history.csv',\n",
       " '../Data/Train\\\\transaction_patterns.csv']"
      ]
     },
     "execution_count": 38,
     "metadata": {},
     "output_type": "execute_result"
    }
   ],
   "source": [
    "list_data = glob('../Data/Train/*')\n",
    "list_data"
   ]
  },
  {
   "cell_type": "code",
   "execution_count": null,
   "metadata": {},
   "outputs": [],
   "source": []
  },
  {
   "cell_type": "code",
   "execution_count": 45,
   "metadata": {},
   "outputs": [
    {
     "data": {
      "text/plain": [
       "'alerts'"
      ]
     },
     "execution_count": 45,
     "metadata": {},
     "output_type": "execute_result"
    }
   ],
   "source": [
    "## separation du nom du fichier\n",
    "name_tables = list_data[0].split(os.sep)[-1]..split('.')[0]\n",
    "name_tables = name_tables.split('.')[0]\n",
    "name_tables"
   ]
  },
  {
   "cell_type": "code",
   "execution_count": null,
   "metadata": {},
   "outputs": [],
   "source": []
  },
  {
   "cell_type": "markdown",
   "metadata": {},
   "source": [
    "### CHARGEMENT DE TOUS LES FICHIERS DANS LA BASE DE DONNEES"
   ]
  },
  {
   "cell_type": "code",
   "execution_count": 53,
   "metadata": {},
   "outputs": [
    {
     "name": "stderr",
     "output_type": "stream",
     "text": [
      "  0%|          | 0/6 [00:00<?, ?it/s]"
     ]
    },
    {
     "name": "stdout",
     "output_type": "stream",
     "text": [
      "alerts\n"
     ]
    },
    {
     "name": "stderr",
     "output_type": "stream",
     "text": [
      " 33%|███▎      | 2/6 [00:00<00:00,  7.35it/s]"
     ]
    },
    {
     "name": "stdout",
     "output_type": "stream",
     "text": [
      "customers\n"
     ]
    },
    {
     "name": "stderr",
     "output_type": "stream",
     "text": [
      " 50%|█████     | 3/6 [00:02<00:02,  1.21it/s]"
     ]
    },
    {
     "name": "stdout",
     "output_type": "stream",
     "text": [
      "devices\n"
     ]
    },
    {
     "name": "stderr",
     "output_type": "stream",
     "text": [
      " 67%|██████▋   | 4/6 [00:05<00:03,  1.95s/it]"
     ]
    },
    {
     "name": "stdout",
     "output_type": "stream",
     "text": [
      "transactions\n"
     ]
    },
    {
     "name": "stderr",
     "output_type": "stream",
     "text": [
      " 83%|████████▎ | 5/6 [00:09<00:02,  2.53s/it]"
     ]
    },
    {
     "name": "stdout",
     "output_type": "stream",
     "text": [
      "transaction_history\n"
     ]
    },
    {
     "name": "stderr",
     "output_type": "stream",
     "text": [
      "100%|██████████| 6/6 [00:11<00:00,  1.97s/it]"
     ]
    },
    {
     "name": "stdout",
     "output_type": "stream",
     "text": [
      "transaction_patterns\n"
     ]
    },
    {
     "name": "stderr",
     "output_type": "stream",
     "text": [
      "\n"
     ]
    }
   ],
   "source": [
    "for table in tqdm(list_data) : \n",
    "    name_tables = table.split(os.sep)[-1].split('.')[0]  # recuperation du nom de la table a partir du path \n",
    "    data_tmp =  pd.read_csv(table)  # chargement de la csv avec pandas \n",
    "    data_tmp.to_sql(name_tables , conn , if_exists='replace', index=False) # savegarde du csv dans le base de donnee \n",
    "    \n",
    "    print(name_tables)"
   ]
  },
  {
   "cell_type": "code",
   "execution_count": null,
   "metadata": {},
   "outputs": [],
   "source": []
  }
 ],
 "metadata": {
  "kernelspec": {
   "display_name": "Python 3 (ipykernel)",
   "language": "python",
   "name": "python3"
  },
  "language_info": {
   "codemirror_mode": {
    "name": "ipython",
    "version": 3
   },
   "file_extension": ".py",
   "mimetype": "text/x-python",
   "name": "python",
   "nbconvert_exporter": "python",
   "pygments_lexer": "ipython3",
   "version": "3.12.4"
  }
 },
 "nbformat": 4,
 "nbformat_minor": 4
}
